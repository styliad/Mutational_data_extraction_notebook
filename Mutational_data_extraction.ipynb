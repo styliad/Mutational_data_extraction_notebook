{
 "cells": [
  {
   "cell_type": "markdown",
   "id": "romantic-french",
   "metadata": {},
   "source": [
    "The present script works based on mutational data downloaded from gpcrdb.org"
   ]
  },
  {
   "cell_type": "code",
   "execution_count": null,
   "id": "minimal-extra",
   "metadata": {},
   "outputs": [],
   "source": [
    "import pandas as pd\n",
    "from pandas import ExcelWriter\n",
    "import numpy as np\n",
    "import re"
   ]
  },
  {
   "cell_type": "code",
   "execution_count": null,
   "id": "retained-resource",
   "metadata": {},
   "outputs": [],
   "source": [
    "#From stackoverflow\n",
    "def save_xls(list_dfs, xls_path):\n",
    "    with ExcelWriter(xls_path) as writer:\n",
    "        for n, df in enumerate(list_dfs):\n",
    "            df.to_excel(writer,'sheet%s' % n)\n",
    "        writer.save()"
   ]
  },
  {
   "cell_type": "markdown",
   "id": "spread-tumor",
   "metadata": {},
   "source": [
    "### Set Jupyter settings"
   ]
  },
  {
   "cell_type": "code",
   "execution_count": null,
   "id": "vietnamese-sperm",
   "metadata": {},
   "outputs": [],
   "source": [
    "pd.set_option('display.max_columns', None)\n",
    "pd.set_option('display.max_rows', None)\n",
    "pd.set_option('display.float_format', '{:.3f}'.format)"
   ]
  },
  {
   "cell_type": "markdown",
   "id": "thorough-object",
   "metadata": {},
   "source": [
    "### Read file from gpcrdb.org"
   ]
  },
  {
   "cell_type": "code",
   "execution_count": null,
   "id": "independent-alliance",
   "metadata": {},
   "outputs": [],
   "source": [
    "df = pd.read_excel(\"GPCRdb_mutational_data.xlsx\")"
   ]
  },
  {
   "cell_type": "markdown",
   "id": "identical-mason",
   "metadata": {},
   "source": [
    "# DATA CLEANING\n",
    "\n",
    "## Application type:\n",
    "1. Automatic(A)\n",
    "2. Semi-automatic(S)\n",
    "3. Manual (M)\n",
    "\n",
    "## Data removed: \n",
    "+\tRows with no ligand names(A)\n",
    "+\tRacemic mixture compounds that have at least one stereoisomer in the data(same mutation and generic residue number)(A)\n",
    "+\tMutations that do not correspond to a 5-HT receptor. Mapping is only restricted within the same species. E.g. human ->human, not rat -> human(A)\n",
    "+\tDuplicates(Data from duplicate publications or still from different publications but same data)(S)\n",
    "+\tData with only qualitative fold-effect annotations, except with \"Abolished\" binding annotation(A)\n",
    "+\tLigands with unknown modality(A)\n",
    "+\tNot belonging to the desired set of residues(A)\n",
    "\n",
    "## Data kept: \n",
    "+\tOnly the highest(if needed, most negative) valued occurrence of data with multiple occurrences (Same protein, mutation, ligand)(A)\n",
    "\n",
    "## Data modified:\n",
    "+\t[3H] radiolabeled compounds are converted to non-radiolabeled. Only [3H] radiolabeled compounds are treated as non-radiolabeled in contrast to [125I], as the replacement of an H atom from 3H  is negligible in terms of size.(A)"
   ]
  },
  {
   "cell_type": "markdown",
   "id": "younger-compression",
   "metadata": {},
   "source": [
    "### Delete mutation data that do not contain a ligand"
   ]
  },
  {
   "cell_type": "code",
   "execution_count": null,
   "id": "rubber-development",
   "metadata": {},
   "outputs": [],
   "source": [
    "df.dropna(subset=['ligand_name'],inplace = True)\n",
    "#round numbers\n",
    "df = df.round(1)"
   ]
  },
  {
   "cell_type": "markdown",
   "id": "rough-vocabulary",
   "metadata": {},
   "source": [
    "## Drop data with qualitative fold effect annotation\n",
    "Data with an 'Unchanged' annotation in the exp_mu_effect_qual column or with fold change data are being kept"
   ]
  },
  {
   "cell_type": "code",
   "execution_count": null,
   "id": "alpine-tutorial",
   "metadata": {},
   "outputs": [],
   "source": [
    "df = df[(df.exp_mu_effect_qual.isnull()) | (df.exp_mu_effect_qual == 'Unchanged') | (df.exp_mu_effect_qual == 'Abolished')| ((df.exp_mu_effect_qual.notnull()) & (df.exp_fold_change !=  0))]"
   ]
  },
  {
   "cell_type": "markdown",
   "id": "editorial-electronics",
   "metadata": {},
   "source": [
    "### Define new columns "
   ]
  },
  {
   "cell_type": "code",
   "execution_count": null,
   "id": "fitting-egyptian",
   "metadata": {},
   "outputs": [],
   "source": [
    "df['Improved_affinity'] = np.where(df['exp_fold_change']<0, 1, 0)\n",
    "df['Decreased_affinity_or_same'] = np.where(df['exp_fold_change']>=0, 1, 0)\n",
    "df['mutation'] =  df['mutation_from'] + '\\u2192' + df['mutation_to']\n",
    "df['fold_ch_negative'] = df['exp_fold_change'] < 0\n",
    "df['ligand_class_old'] = df['ligand_class']"
   ]
  },
  {
   "cell_type": "markdown",
   "id": "liable-variable",
   "metadata": {},
   "source": [
    "### Identify experimental results that are duplicates"
   ]
  },
  {
   "cell_type": "code",
   "execution_count": null,
   "id": "unexpected-capacity",
   "metadata": {},
   "outputs": [],
   "source": [
    "df['duplicates'] = df.duplicated(subset=['protein', 'ligand_name','exp_fold_change','mutation','generic'], keep=False)"
   ]
  },
  {
   "cell_type": "markdown",
   "id": "satisfied-blink",
   "metadata": {},
   "source": [
    "### Keep only unique results and only highest result per protein-ligand pair"
   ]
  },
  {
   "cell_type": "code",
   "execution_count": null,
   "id": "subsequent-healing",
   "metadata": {},
   "outputs": [],
   "source": [
    "df.sort_values('exp_fold_change', key=abs, inplace=True)\n",
    "df.drop_duplicates(subset=['protein', 'ligand_name', 'exp_fold_change','mutation','generic'],keep='last', inplace=True)"
   ]
  },
  {
   "cell_type": "markdown",
   "id": "specific-reproduction",
   "metadata": {},
   "source": [
    "### Keep only mutations for the selected generic positions"
   ]
  },
  {
   "cell_type": "code",
   "execution_count": null,
   "id": "sudden-range",
   "metadata": {},
   "outputs": [],
   "source": [
    "residue_numbers = pd.read_excel('./residue_numbers.xlsx')\n",
    "residue_numbers = residue_numbers['Residue number'].tolist()"
   ]
  },
  {
   "cell_type": "code",
   "execution_count": null,
   "id": "under-tragedy",
   "metadata": {},
   "outputs": [],
   "source": [
    "df = df[df.generic.isin(residue_numbers)]"
   ]
  },
  {
   "cell_type": "markdown",
   "id": "interested-locking",
   "metadata": {},
   "source": [
    "## Define dictionaries for filling missing ligand information"
   ]
  },
  {
   "cell_type": "markdown",
   "id": "noble-found",
   "metadata": {},
   "source": [
    "Define dictionaries here"
   ]
  },
  {
   "cell_type": "markdown",
   "id": "optional-damages",
   "metadata": {},
   "source": [
    "### Map activities(based on GPCRdb annotation) from provided dictionaries to dataframe"
   ]
  },
  {
   "cell_type": "code",
   "execution_count": null,
   "id": "superior-redhead",
   "metadata": {},
   "outputs": [],
   "source": [
    "for key in activities.keys():\n",
    "    df['ligand_class'] = np.where(df.ligand_name == key,activities[key],df['ligand_class'])"
   ]
  },
  {
   "cell_type": "code",
   "execution_count": null,
   "id": "differential-consent",
   "metadata": {},
   "outputs": [],
   "source": [
    "for key in extras:\n",
    "    for key2 in extras[key]:\n",
    "        if str(key) not in Uncertain.keys():\n",
    "            df['ligand_class'] = np.where(((df.ligand_name == str(key)) & (df.protein == str(key2))),extras[key][key2],df['ligand_class'])\n",
    "        else:\n",
    "            if str(key2) in Uncertain[key].keys():\n",
    "                df['ligand_class'] = np.where(((df.ligand_name == str(key)) & (df.protein == str(key2)) & (df.ligand_class == 'Binding - unknown pharmacological activity')),extras[key][key2],df['ligand_class'])\n",
    "            else:\n",
    "                df['ligand_class'] = np.where(((df.ligand_name == str(key)) & (df.protein == str(key2))),extras[key][key2],df['ligand_class'])"
   ]
  },
  {
   "cell_type": "markdown",
   "id": "oriented-trash",
   "metadata": {},
   "source": [
    "### Define new column based on general binding modality(agonist, antagonist or unknown) binding"
   ]
  },
  {
   "cell_type": "code",
   "execution_count": null,
   "id": "posted-encoding",
   "metadata": {},
   "outputs": [],
   "source": [
    "df['general_ligand_class'] = np.where((((df.ligand_class == 'Full agonist') | (df.ligand_class == 'Partial agonist')) & (df['ligand_class'] != 'Binding - unknown pharmacological activity')),\n",
    "                                       'Agonist','Unknown')"
   ]
  },
  {
   "cell_type": "code",
   "execution_count": null,
   "id": "conservative-biotechnology",
   "metadata": {},
   "outputs": [],
   "source": [
    "df['general_ligand_class'] = np.where((((df.ligand_class == 'Antagonist (neutral/silent)') | (df.ligand_class == 'Inverse agonist')) & (df['ligand_class'] != 'Binding - unknown pharmacological activity')),\n",
    "                                       'Antagonist',df['general_ligand_class'])"
   ]
  },
  {
   "cell_type": "markdown",
   "id": "buried-wallet",
   "metadata": {},
   "source": [
    "### Define new species column"
   ]
  },
  {
   "cell_type": "code",
   "execution_count": null,
   "id": "separate-grocery",
   "metadata": {},
   "outputs": [],
   "source": [
    "df['species'] = np.where(df.protein.str[-5:] == 'human', 'human', None)\n",
    "df['species'] = np.where(df.protein.str[-5:] == 'mouse', 'mouse', df['species'])\n",
    "df['species'] = np.where(df.protein.str[-3:] == 'rat', 'rat', df['species'])\n",
    "df['species'] = np.where(df.protein.str[-5:] == 'canlf', 'canlf', df['species'])\n",
    "df['species'] = np.where(df.protein.str[-5:] == 'cavpo', 'cavpo', df['species'])"
   ]
  },
  {
   "cell_type": "markdown",
   "id": "supposed-purpose",
   "metadata": {},
   "source": [
    "### Group compounds based on their binding modality"
   ]
  },
  {
   "cell_type": "code",
   "execution_count": null,
   "id": "nasty-intent",
   "metadata": {},
   "outputs": [],
   "source": [
    "Agonists = df[(df.general_ligand_class == 'Agonist')]\n",
    "Antagonists = df[(df.general_ligand_class == 'Antagonist')]\n",
    "Unknown_ligands = df[(df.general_ligand_class == 'Unknown')]"
   ]
  },
  {
   "cell_type": "markdown",
   "id": "identified-transportation",
   "metadata": {},
   "source": [
    "### View number ligands based on modality"
   ]
  },
  {
   "cell_type": "code",
   "execution_count": null,
   "id": "delayed-saying",
   "metadata": {},
   "outputs": [],
   "source": [
    "print (f\"Agonists:{Agonists.shape[0]} \\nAntagonist: {Antagonists.shape[0]} \\nUnknown ligand class ligands: {Unknown_ligands.shape[0]}\")"
   ]
  },
  {
   "cell_type": "markdown",
   "id": "prescription-scene",
   "metadata": {},
   "source": [
    "## Dictionary for mutant residues' WT 5-HT receptor subtype "
   ]
  },
  {
   "cell_type": "code",
   "execution_count": null,
   "id": "competent-hazard",
   "metadata": {},
   "outputs": [],
   "source": [
    "human_mut = df[df.protein.str[-5:] == 'human']\n",
    "mouse_mut = df[df.protein.str[-5:] == 'mouse']\n",
    "rat_mut = df[df.protein.str[-3:] == 'rat']\n",
    "other_mut = df[(df.protein.str[-3:] != 'rat') & (df.protein.str[-5:] != 'human') & (df.protein.str[-5:] != 'mouse')]"
   ]
  },
  {
   "cell_type": "code",
   "execution_count": null,
   "id": "peripheral-bulgaria",
   "metadata": {},
   "outputs": [],
   "source": [
    "print(f\" Human Mutants: {human_mut.shape[0]} \\\n",
    "         Mouse Mutants: {mouse_mut.shape[0]} \\\n",
    "         Rat Mutants: {rat_mut.shape[0]} \\\n",
    "         Other Mutants: {other_mut.shape[0]}\")"
   ]
  },
  {
   "cell_type": "markdown",
   "id": "awful-liabilities",
   "metadata": {},
   "source": [
    "### Define dictionaries to map mutant residues' WT 5-HT receptor subtype\n",
    "Mapping is only restricted within the same species. E.g. human &rarr; human, not rat -> human"
   ]
  },
  {
   "cell_type": "code",
   "execution_count": null,
   "id": "lyric-madison",
   "metadata": {},
   "outputs": [],
   "source": [
    "mutant_5ht_subtype = {\n",
    "    'human' : {\n",
    "        '1x46': {'V': ''},\n",
    "        '2x50': {'N': '',\n",
    "                 'A': ''},\n",
    "        '2x60': {'A': '1A,2B,6'},\n",
    "        '3x25': {'A': ''},\n",
    "        '3x28': {'L': '',\n",
    "                 'A': '' },\n",
    "        '3x29': {'A': ''},\n",
    "        '3x32': {'N': '',\n",
    "                 'A': ''},\n",
    "        '3x33': {'A': '',\n",
    "                 'L': '',\n",
    "                 'Y': '',\n",
    "                 'F': ''},\n",
    "        '3x36': {'A': '',\n",
    "                 'C': '1A-B,1D-F,5A,6,7'},\n",
    "        '3x37': {'A': '',\n",
    "                 'V': '',\n",
    "                 'N': '',\n",
    "                 'S': '6'},\n",
    "        '3x40': {'F': '',\n",
    "                 'A': ''},\n",
    "        '34x51': {'E': '',\n",
    "                 'A': ''},\n",
    "        '4x53': {'A': '6'},\n",
    "        '4x54': {'V': '1F,2A'},\n",
    "        '4x56': {'V': '2C'},\n",
    "        '4x57': {'S': '1A-B,1D-F,2A/C,4,5A,6',\n",
    "                 'A': '2B'},\n",
    "        '4x61': {'A': '',\n",
    "                 'V' : '2B',\n",
    "                 'M': '1A'},\n",
    "        '45x50': {'A': ''},\n",
    "        '45x51': {'S': '',\n",
    "                 'A': '',\n",
    "                 'T': '1A,1E',\n",
    "                 'Q': '5A',\n",
    "                 'F': ''},\n",
    "        '45x52': {'A': ''},\n",
    "        '5x38' : {'L': '1B'},\n",
    "        '5x39': {'A': ''},\n",
    "        '5x40': {'T': '1A-B,1D-F,7',\n",
    "                 'A': '4,5A'},\n",
    "        '5x41': {'V': '1B,5A'},\n",
    "        '5x43': {'G': '2A-C',\n",
    "                 'S': '1A-B,1D-F,5A,7',\n",
    "                 'A': '6',\n",
    "                 'Y': ''},\n",
    "        '5x44': {'A': '',\n",
    "                 'T': '1A-B,1D-F,5A,7'},\n",
    "        '5x45': {'V': '1B,4,5A'},\n",
    "        '5x461': {'G': '',\n",
    "                 'S': '2A',\n",
    "                  'F': '',\n",
    "                  'T': '6',\n",
    "                 'A': '1A-B,1D-F,2B-C,4,5A,7'},\n",
    "        '5x47': {'A': '',\n",
    "                 'L': ''},\n",
    "        '5x48': {'A': ''},\n",
    "        '5x49': {'A': '',\n",
    "                 'F': '1B'},\n",
    "        '5x50': {'A': ''},\n",
    "        '5x52': {'T': '1E,2A,2C'},\n",
    "        '6x34': {'K': '',\n",
    "                 'E': ''},\n",
    "        '6x44': {'L': '',\n",
    "                 'A': ''},\n",
    "        '6x47': {'A': ''},\n",
    "        '6x48': {'Y': '',\n",
    "                 'A': '',\n",
    "                 'F': '',\n",
    "                 'L': ''},\n",
    "        '6x51': {'Y': '',\n",
    "                 'A': '',\n",
    "                 'L': ''},\n",
    "        '6x52': {'L': '',\n",
    "                 'N': '',\n",
    "                 'A': '',\n",
    "                 'V': ''},\n",
    "        '6x54': {'K': '1E-F'},\n",
    "        '6x55': {'Y': '',\n",
    "                 'A': '1A',\n",
    "                 'L': '',\n",
    "                 'E': '1E-F,5A',\n",
    "                 'Q': '',\n",
    "                 'S': '1B/D,7'},\n",
    "        '6x58': {'A': '2A',\n",
    "                 'L': '1A/D,2B'},\n",
    "        '6x59': {'A' : '6'},\n",
    "        '7x32': {'V': ''},\n",
    "        '7x33': {'F': ''},\n",
    "        '7x34': {'A': '1E',\n",
    "                 'F': '1B/D,6',\n",
    "                 'G':'1A',\n",
    "                 'R': '',\n",
    "                 'N': '',\n",
    "                 'T': '',\n",
    "                 'Y': '',\n",
    "                 'D': ''},\n",
    "        '7x35': {'L': '',\n",
    "                 'F': '',\n",
    "                 'A': '1A',\n",
    "                 'V': ''},\n",
    "        '7x37': {'A': '',\n",
    "                 'Y': ''},\n",
    "        '7x38': {'N': '1A',\n",
    "                 'V': '2A-C',\n",
    "                 'A': '1F'},\n",
    "        '7x39': {'F': '',\n",
    "                 'A': ''},\n",
    "        '7x41': {'A': ''},\n",
    "        '7x42': {'F': '',\n",
    "                 'A': '',\n",
    "                 'T': ''},\n",
    "        '7x43': {'A': '7'},\n",
    "        '7x45': {'A': '',\n",
    "                 'S': '2A/B'},\n",
    "        '7x46': {'A': ''},\n",
    "        '7x49': {'Q': '',\n",
    "                 'D': '',\n",
    "                 'V': '',\n",
    "                 'A': '',\n",
    "                 'F': ''},\n",
    "        '7x53': {'C': '',\n",
    "                 'F': '',\n",
    "                 'A': ''},\n",
    "        '8x48': {'D': ''},\n",
    "        '8x49': {'K': ''}\n",
    "    },\n",
    "    'rat' : {\n",
    "        '1x34': {'A': ''},\n",
    "        '2x50': {'N': ''},\n",
    "        '2x55': {'L': '2B-C',\n",
    "                'S': ''},\n",
    "        '3x28': {'F': '1A,7'},\n",
    "        '3x29': {'A': ''},\n",
    "        '3x32': {'N': '',\n",
    "                 'A': '',\n",
    "                'Q': '',\n",
    "                'E': ''},\n",
    "        '3x49': {'N': ''},\n",
    "        '3x50': {'E': ''},\n",
    "        '4x38': {'A': ''},    \n",
    "        '4x45': {'M': '1B/D,4,5A,7'},\n",
    "        '4x50': {'A': ''},\n",
    "        '4x53': {'S': '1B/D/F,2A-C,5A,7'},\n",
    "        '4x57': {'A': '2B'},\n",
    "        '5x39': {'Y': '1A-B,1D,4,5A,7'},\n",
    "        '5x44': {'A': ''},\n",
    "        '5x45': {'A': '7'},\n",
    "        '5x461': {'N': '',\n",
    "                 'T': '6',\n",
    "                 'A': '1A-B,1D/F,2A-C,4,5A,7',\n",
    "                 'S': ''},\n",
    "        '5x47': {'A': '',\n",
    "                 'L': ''},\n",
    "        '5x48': {'A': ''},\n",
    "        '5x72': {'A': ''},\n",
    "\n",
    "        '6x28': {'A': '1A-B,1D'},\n",
    "        '6x29': {'A': ''},\n",
    "        '6x30': {'A': '6',\n",
    "                'R': ''},\n",
    "        '6x31': {'A': ''},\n",
    "        '6x32': {'A': ''},\n",
    "        '6x33': {'A': '1B/D/F,2A-C,4,5A,6,7'},    \n",
    "        '6x34': {'K': '',\n",
    "                 'A': '1F,4,5A,7',\n",
    "                'F': ''},\n",
    "        '6x35': {'A': ''},\n",
    "        '6x36': {'A': ''},\n",
    "        '6x37': {'A': ''},\n",
    "        '6x38': {'A': ''},\n",
    "        '6x39': {'A': ''},\n",
    "        '6x40': {'A': ''},\n",
    "        '6x48': {'A': '',},\n",
    "        '6x51': {'Y': '',\n",
    "                 'A': '',\n",
    "                 'L': ''},\n",
    "        '6x52': {'L': '',\n",
    "                 'Y': '',\n",
    "                 'A': ''},\n",
    "         '7x35': {'A': '1A'},\n",
    "        '7x37': {'L': '1F,6'},\n",
    "        '7x39': {'A': ''},\n",
    "        '7x42': {'A': ''},\n",
    "        '7x45': {'A': '',\n",
    "                 'N': '1A-B,1D/F,4,5A,6,7'},\n",
    "        '7x49': {'Y': ''},\n",
    "        '7x56': {'A': ''}\n",
    "    },\n",
    "    'mouse' : {\n",
    "        '1x58': {'S': '2A,2C'},\n",
    "        '2x50': {'A': ''},\n",
    "        '3x32': {'A': ''},\n",
    "        '3x36': {'A': ''},\n",
    "        '3x50': {'A': ''},\n",
    "        '5x39': {'F': '2A-C'},\n",
    "        '5x44': {'A': ''},\n",
    "        '6x30': {'G': '',},\n",
    "        '6x32': {'S': ''},\n",
    "        '6x34': {'L': ''},\n",
    "        '6x42': {'G': '1A-B,1D/F,4,5A,7'},\n",
    "        '6x48': {'A': ''},\n",
    "        '6x51': {'A': ''},\n",
    "        '6x55': {'N': '2A-C,4'}\n",
    "    },\n",
    "    'cavpo' : {\n",
    "        '2x65' : {'I' : ''},\n",
    "        '2x67' : {'H' : ''}\n",
    "    },\n",
    "    'canlf' : {\n",
    "        '45x51' : {'L' : '2A,7'}\n",
    "    } \n",
    "}"
   ]
  },
  {
   "cell_type": "markdown",
   "id": "taken-symphony",
   "metadata": {},
   "source": [
    "### Group data sequentially on a dictionary based on species, generic position, protein and mutation "
   ]
  },
  {
   "cell_type": "code",
   "execution_count": null,
   "id": "narrow-alabama",
   "metadata": {},
   "outputs": [],
   "source": [
    "Agonists_species = dict()\n",
    "Agonists_generic = dict()\n",
    "Agonists_protein = dict()\n",
    "Agonists_mutation = dict()\n",
    "for k, v in Agonists.groupby('species'):\n",
    "    Agonists_species[k] = v\n",
    "    Agonists_generic[k] = {}\n",
    "    Agonists_protein[k] = {}\n",
    "    Agonists_mutation[k] = {}\n",
    "    for a, b in Agonists_species[k].groupby('generic'):\n",
    "        Agonists_generic[k][a] = b\n",
    "        Agonists_protein[k][a] = {}\n",
    "        Agonists_mutation[k][a] = {}\n",
    "        for c, d in Agonists_generic[k][a].groupby('protein'):\n",
    "            Agonists_protein[k][a][c] = d\n",
    "            Agonists_mutation[k][a][c] = {}\n",
    "            for e, f in Agonists_protein[k][a][c].groupby('mutation'):\n",
    "                Agonists_mutation[k][a][c][e] = f      "
   ]
  },
  {
   "cell_type": "code",
   "execution_count": null,
   "id": "national-romance",
   "metadata": {},
   "outputs": [],
   "source": [
    "Antagonists_species = dict()\n",
    "Antagonists_generic = dict()\n",
    "Antagonists_protein = dict()\n",
    "Antagonists_mutation = dict()\n",
    "for k, v in Antagonists.groupby('species'):\n",
    "    Antagonists_species[k] = v\n",
    "    Antagonists_generic[k] = {}\n",
    "    Antagonists_protein[k] = {}\n",
    "    Antagonists_mutation[k] = {}\n",
    "    for a, b in Antagonists_species[k].groupby('generic'):\n",
    "        Antagonists_generic[k][a] = b\n",
    "        Antagonists_protein[k][a] = {}\n",
    "        Antagonists_mutation[k][a] = {}\n",
    "        for c, d in Antagonists_generic[k][a].groupby('protein'):\n",
    "            Antagonists_protein[k][a][c] = d\n",
    "            Antagonists_mutation[k][a][c] = {}\n",
    "            for e, f in Antagonists_protein[k][a][c].groupby('mutation'):\n",
    "                Antagonists_mutation[k][a][c][e] = f      "
   ]
  },
  {
   "cell_type": "markdown",
   "id": "invalid-butterfly",
   "metadata": {},
   "source": [
    "### Create dataframes necessary for building the desired final excel file"
   ]
  },
  {
   "cell_type": "code",
   "execution_count": null,
   "id": "incorporate-maker",
   "metadata": {},
   "outputs": [],
   "source": [
    "df_agonists = pd.DataFrame(columns=['Position', 'WT 5-HT receptor',\n",
    "                                       'Mutation','Mutation 5-HT Subtype','FE_Less_5','FE_Gre_5_less_10_dec_or_same','FE_Gre_5_less_10_impr','Greater_10_dec_or_same','Greater_10_impr',\n",
    "                                      'Max_fold_effect', 'Max_fold_effect_ligand','Max_fold_effect_negative'])\n",
    "\n",
    "for species in Agonists_mutation:\n",
    "    for position in Agonists_mutation[species]:\n",
    "        for protein in Agonists_mutation[species][position]:\n",
    "            for mutation in Agonists_mutation[species][position][protein]:\n",
    "                access_point = Agonists_mutation[species][position][protein][mutation]\n",
    "#                 Radiolabeled ligands (names) e.g. [3H]5-HT are converted to 5-HT\n",
    "                access_point[\"ligand_name\"] = access_point[\"ligand_name\"].str.replace(r'\\[3H\\]\\-?', '')\n",
    "#                 Keep only unique ligand - receptor pairs and on many instances of a particular pair keep only the highest effect result\n",
    "                access_point.sort_values('exp_fold_change',key=abs, inplace=True)\n",
    "                access_point.drop_duplicates(subset=['protein','ligand_name','mutation','generic'],keep='last',inplace=True)        \n",
    "\n",
    "                # Drop racemic mixtures compounds when at least one enantiomer is present\n",
    "                enantiomers_count = access_point[access_point['ligand_name'].str.contains(r'isomer (?:S|R)|\\((?:S|R)\\)|(?:\\(\\+\\)|\\(\\-\\))')].shape[0]\n",
    "                if enantiomers_count>0:\n",
    "                    enantiomers = access_point[access_point['ligand_name'].str.contains(r'isomer (?:S|R)|\\((?:S|R)\\)|(?:\\(\\+\\)|\\(\\-\\))')].ligand_name.unique().tolist()\n",
    "                    racemic = list(set([re.sub(r'\\(isomer (?:S|R)\\)|\\((?:S|R)\\)-?|(?:\\(\\+\\)-?|\\(\\-\\)-?)', '',i).strip() for i in enantiomers]))\n",
    "                    for rac in racemic:\n",
    "                        if access_point[access_point['ligand_name'].str.contains(rac)].shape[0] >0:\n",
    "                            access_point = access_point[access_point['ligand_name'] != rac]\n",
    "\n",
    "                tmp_list = []\n",
    "                mutation_ = mutation\n",
    "\n",
    "                mutation_subtype = mutant_5ht_subtype[species][position][mutation[-1:]]\n",
    "\n",
    "\n",
    "                less_5 = access_point[abs(access_point['exp_fold_change']) <= 5].shape[0]\n",
    "                subdf_great_5_less_10 = access_point[(abs(access_point['exp_fold_change']) > 5) & (abs(access_point['exp_fold_change']) <= 10)]\n",
    "                great_5_less_10_impr = subdf_great_5_less_10['Improved_affinity'].sum(skipna= True)\n",
    "                great_5_less_10_decr_or_same = subdf_great_5_less_10['Decreased_affinity_or_same'].sum(skipna= True)\n",
    "                \n",
    "                tmp_list.extend([position,protein,mutation_, mutation_subtype, less_5, great_5_less_10_decr_or_same, great_5_less_10_impr])\n",
    "\n",
    "                subdf_great_10 = access_point[abs(access_point['exp_fold_change']) > 10]\n",
    "                great_10_impr = subdf_great_10['Improved_affinity'].sum(skipna= True)\n",
    "                great_10_decr_or_same = subdf_great_10['Decreased_affinity_or_same'].sum(skipna= True)\n",
    "\n",
    "                if access_point[access_point.exp_mu_effect_qual == 'Abolished'].shape[0] == 0:\n",
    "                    max_fold_effect = access_point['exp_fold_change'].abs().max()\n",
    "\n",
    "                    max_fold_eff_ligand_tmp = access_point[abs(access_point['exp_fold_change']) == max_fold_effect]\n",
    "                    if max_fold_eff_ligand_tmp.ligand_name.values.shape[0] == 1:\n",
    "                        max_fold_eff_ligand = max_fold_eff_ligand_tmp.ligand_name.values[0]\n",
    "                        tmp_value_of_max_fold_eff_ligand_raw = access_point['exp_fold_change'][(access_point['ligand_name'] == max_fold_eff_ligand) & (abs(access_point['exp_fold_change']) == max_fold_effect)].values[0]\n",
    "                    elif max_fold_eff_ligand_tmp.ligand_name.values.shape[0] > 1:\n",
    "                        max_fold_eff_ligand = list(set(max_fold_eff_ligand_tmp.ligand_name.values.tolist()))\n",
    "                        requirement_1 = access_point[(access_point['exp_fold_change'].abs() == max_fold_effect) & (access_point['fold_ch_negative'] == True)]\n",
    "                        if requirement_1.shape[0] == 1:\n",
    "                            tmp_value_of_max_fold_eff_ligand_raw = requirement_1['exp_fold_change'].values[0]\n",
    "                            neg_fold_eff_ligand = requirement_1['ligand_name'].values[0]\n",
    "                            lig_index = max_fold_eff_ligand.index(neg_fold_eff_ligand)\n",
    "                            max_fold_eff_ligand[lig_index] = neg_fold_eff_ligand + '*'\n",
    "                        elif requirement_1.shape[0] > 1:\n",
    "                            tmp_value_of_max_fold_eff_ligand_raw = requirement_1['exp_fold_change'].values[0]\n",
    "                            max_fold_eff_ligand = [i+\"*\" for i in requirement_1['ligand_name'].tolist()] \n",
    "                        else:\n",
    "                            tmp_value_of_max_fold_eff_ligand_raw = access_point['exp_fold_change'][abs(access_point['exp_fold_change']) == max_fold_effect].values[0]\n",
    "                else:\n",
    "                    max_fold_effect = 'Abolished'\n",
    "                    max_fold_eff_ligand_tmp = access_point[access_point.exp_mu_effect_qual == 'Abolished']\n",
    "                    great_10_decr_or_same += max_fold_eff_ligand_tmp.ligand_name.values.shape[0]\n",
    "                    if max_fold_eff_ligand_tmp.ligand_name.values.shape[0] == 1:\n",
    "                        max_fold_eff_ligand = max_fold_eff_ligand_tmp.ligand_name.values[0]\n",
    "                    elif max_fold_eff_ligand_tmp.ligand_name.values.shape[0] > 1:\n",
    "                        max_fold_eff_ligand = list(set(max_fold_eff_ligand_tmp.ligand_name.values.tolist()))\n",
    "    \n",
    "\n",
    "                if max_fold_effect != 'Abolished' and tmp_value_of_max_fold_eff_ligand_raw <0:\n",
    "                    gain_of_activity = '\\u2191'\n",
    "                else:\n",
    "                    gain_of_activity = '\\u2193'\n",
    "\n",
    "                print(position,protein, mutation,max_fold_eff_ligand,max_fold_effect,gain_of_activity)\n",
    "                tmp_list.extend([great_10_decr_or_same,great_10_impr,max_fold_effect, max_fold_eff_ligand,gain_of_activity])\n",
    "                list_as_series = pd.Series(tmp_list, index = df_agonists.columns)\n",
    "                df_agonists = df_agonists.append(list_as_series,ignore_index=True)"
   ]
  },
  {
   "cell_type": "code",
   "execution_count": null,
   "id": "hybrid-withdrawal",
   "metadata": {},
   "outputs": [],
   "source": [
    "df_antagonists = pd.DataFrame(columns=['Position', 'WT 5-HT receptor',\n",
    "                                       'Mutation','Mutation 5-HT Subtype','FE_Less_5','FE_Gre_5_less_10_dec_or_same','FE_Gre_5_less_10_impr','Greater_10_dec_or_same','Greater_10_impr',\n",
    "                                      'Max_fold_effect', 'Max_fold_effect_ligand','Max_fold_effect_negative'])\n",
    "\n",
    "for species in Antagonists_mutation:\n",
    "    for position in Antagonists_mutation[species]:\n",
    "        for protein in Antagonists_mutation[species][position]:\n",
    "            for mutation in Antagonists_mutation[species][position][protein]:\n",
    "                access_point = Antagonists_mutation[species][position][protein][mutation]\n",
    "#                 Radiolabeled ligands (names) e.g. [3H]5-HT are converted to 5-HT\n",
    "                access_point[\"ligand_name\"] = access_point[\"ligand_name\"].str.replace(r'\\[3H\\]\\-?', '')\n",
    "#                 Keep only unique ligand - receptor pairs and on many instances of a particular pair keep only the highest effect result\n",
    "                access_point.sort_values('exp_fold_change',key=abs, inplace=True)\n",
    "                access_point.drop_duplicates(subset=['protein','ligand_name','mutation','generic'],keep='last',inplace=True)        \n",
    "\n",
    "                # Drop racemic mixtures compounds when at least one enantiomer is present\n",
    "                enantiomers_count = access_point[access_point['ligand_name'].str.contains(r'isomer (?:S|R)|\\((?:S|R)\\)|(?:\\(\\+\\)|\\(\\-\\))')].shape[0]\n",
    "                if enantiomers_count>0:\n",
    "                    enantiomers = access_point[access_point['ligand_name'].str.contains(r'isomer (?:S|R)|\\((?:S|R)\\)|(?:\\(\\+\\)|\\(\\-\\))')].ligand_name.unique().tolist()\n",
    "                    racemic = list(set([re.sub(r'\\(isomer (?:S|R)\\)|\\((?:S|R)\\)-?|(?:\\(\\+\\)-?|\\(\\-\\)-?)', '',i).strip() for i in enantiomers]))\n",
    "                    for rac in racemic:\n",
    "                        if access_point[access_point['ligand_name'].str.contains(rac)].shape[0] >0:\n",
    "                            access_point = access_point[access_point['ligand_name'] != rac]\n",
    "\n",
    "                tmp_list = []\n",
    "                mutation_ = mutation\n",
    "\n",
    "                mutation_subtype = mutant_5ht_subtype[species][position][mutation[-1:]]\n",
    "\n",
    "\n",
    "                less_5 = access_point[abs(access_point['exp_fold_change']) <= 5].shape[0]\n",
    "                subdf_great_5_less_10 = access_point[(abs(access_point['exp_fold_change']) > 5) & (abs(access_point['exp_fold_change']) <= 10)]\n",
    "                great_5_less_10_impr = subdf_great_5_less_10['Improved_affinity'].sum(skipna= True)\n",
    "                great_5_less_10_decr_or_same = subdf_great_5_less_10['Decreased_affinity_or_same'].sum(skipna= True)\n",
    "                \n",
    "                tmp_list.extend([position,protein,mutation_, mutation_subtype, less_5, great_5_less_10_decr_or_same, great_5_less_10_impr])\n",
    "\n",
    "                subdf_great_10 = access_point[abs(access_point['exp_fold_change']) > 10]\n",
    "                great_10_impr = subdf_great_10['Improved_affinity'].sum(skipna= True)\n",
    "                great_10_decr_or_same = subdf_great_10['Decreased_affinity_or_same'].sum(skipna= True)\n",
    "\n",
    "                if access_point[access_point.exp_mu_effect_qual == 'Abolished'].shape[0] == 0:\n",
    "                    max_fold_effect = access_point['exp_fold_change'].abs().max()\n",
    "\n",
    "                    max_fold_eff_ligand_tmp = access_point[abs(access_point['exp_fold_change']) == max_fold_effect]\n",
    "                    if max_fold_eff_ligand_tmp.ligand_name.values.shape[0] == 1:\n",
    "                        max_fold_eff_ligand = max_fold_eff_ligand_tmp.ligand_name.values[0]\n",
    "                        tmp_value_of_max_fold_eff_ligand_raw = access_point['exp_fold_change'][(access_point['ligand_name'] == max_fold_eff_ligand) & (abs(access_point['exp_fold_change']) == max_fold_effect)].values[0]\n",
    "                    elif max_fold_eff_ligand_tmp.ligand_name.values.shape[0] > 1:\n",
    "                        max_fold_eff_ligand = list(set(max_fold_eff_ligand_tmp.ligand_name.values.tolist()))\n",
    "                        requirement_1 = access_point[(access_point['exp_fold_change'].abs() == max_fold_effect) & (access_point['fold_ch_negative'] == True)]\n",
    "                        if requirement_1.shape[0] == 1:\n",
    "                            tmp_value_of_max_fold_eff_ligand_raw = requirement_1['exp_fold_change'].values[0]\n",
    "                            neg_fold_eff_ligand = requirement_1['ligand_name'].values[0]\n",
    "                            lig_index = max_fold_eff_ligand.index(neg_fold_eff_ligand)\n",
    "                            max_fold_eff_ligand[lig_index] = neg_fold_eff_ligand + '*'\n",
    "                        elif requirement_1.shape[0] > 1:\n",
    "                            tmp_value_of_max_fold_eff_ligand_raw = requirement_1['exp_fold_change'].values[0]\n",
    "                            max_fold_eff_ligand = [i+\"*\" for i in requirement_1['ligand_name'].tolist()] \n",
    "                        else:\n",
    "                            tmp_value_of_max_fold_eff_ligand_raw = access_point['exp_fold_change'][abs(access_point['exp_fold_change']) == max_fold_effect].values[0]\n",
    "                else:\n",
    "                    max_fold_effect = 'Abolished'\n",
    "                    max_fold_eff_ligand_tmp = access_point[access_point.exp_mu_effect_qual == 'Abolished']\n",
    "                    great_10_decr_or_same += max_fold_eff_ligand_tmp.ligand_name.values.shape[0]\n",
    "                    if max_fold_eff_ligand_tmp.ligand_name.values.shape[0] == 1:\n",
    "                        max_fold_eff_ligand = max_fold_eff_ligand_tmp.ligand_name.values[0]\n",
    "                    elif max_fold_eff_ligand_tmp.ligand_name.values.shape[0] > 1:\n",
    "                        max_fold_eff_ligand = list(set(max_fold_eff_ligand_tmp.ligand_name.values.tolist()))\n",
    "    \n",
    "\n",
    "                if max_fold_effect != 'Abolished' and tmp_value_of_max_fold_eff_ligand_raw <0:\n",
    "                    gain_of_activity = '\\u2191'\n",
    "                else:\n",
    "                    gain_of_activity = '\\u2193'\n",
    "\n",
    "                print(position,protein, mutation,max_fold_eff_ligand,max_fold_effect,gain_of_activity)\n",
    "                tmp_list.extend([great_10_decr_or_same,great_10_impr,max_fold_effect, max_fold_eff_ligand,gain_of_activity])\n",
    "                list_as_series = pd.Series(tmp_list, index = df_antagonists.columns)\n",
    "                df_antagonists = df_antagonists.append(list_as_series,ignore_index=True)"
   ]
  },
  {
   "cell_type": "markdown",
   "id": "dedicated-economics",
   "metadata": {},
   "source": [
    "### Show the number of agonists and antagonists"
   ]
  },
  {
   "cell_type": "code",
   "execution_count": null,
   "id": "ranging-spirit",
   "metadata": {},
   "outputs": [],
   "source": [
    "print(f'Agonists: {df_agonists.shape[0]} \\nAntagonists: {df_antagonists.shape[0]}')"
   ]
  },
  {
   "cell_type": "markdown",
   "id": "pressed-observation",
   "metadata": {},
   "source": [
    "### Only keep mutations whose mutant residue belongs to a WT 5-HT receptor (Mutation 5-HT receptor subtype column not empty)"
   ]
  },
  {
   "cell_type": "code",
   "execution_count": null,
   "id": "still-combination",
   "metadata": {},
   "outputs": [],
   "source": [
    "df_antagonists = df_antagonists[df_antagonists['Mutation 5-HT Subtype'] != '']\n",
    "df_agonists = df_agonists[df_agonists['Mutation 5-HT Subtype'] != '']"
   ]
  },
  {
   "cell_type": "code",
   "execution_count": null,
   "id": "indian-pearl",
   "metadata": {},
   "outputs": [],
   "source": [
    "print(f'Agonists: {df_agonists.shape[0]} \\nAntagonists: {df_antagonists.shape[0]}')"
   ]
  },
  {
   "cell_type": "markdown",
   "id": "printable-cartoon",
   "metadata": {},
   "source": [
    "### Build the excel file with sheets for agonists and antagonists"
   ]
  },
  {
   "cell_type": "code",
   "execution_count": null,
   "id": "foster-harvard",
   "metadata": {},
   "outputs": [],
   "source": [
    "df_agonists['Max_fold_effect_negative'] = np.where(df_agonists['Max_fold_effect_negative'] == True, '\\u2191', '\\u2193')\n",
    "df_agonists['Max_fold_effect'] = df_agonists['Max_fold_effect'].map(str) + df_agonists['Max_fold_effect_negative'].map(str)\n",
    "df_agonists = df_agonists.drop('Max_fold_effect_negative', axis=1)\n",
    "df_agonists.sort_values(['Position','WT 5-HT receptor'], inplace=True)\n",
    "df_antagonists['Max_fold_effect_negative'] = np.where(df_antagonists['Max_fold_effect_negative'] == True, '\\u2191', '\\u2193')\n",
    "df_antagonists['Max_fold_effect'] = df_antagonists['Max_fold_effect'].map(str) + df_antagonists['Max_fold_effect_negative'].map(str)\n",
    "df_antagonists = df_antagonists.drop('Max_fold_effect_negative', axis=1)\n",
    "df_antagonists.sort_values(['Position','WT 5-HT receptor'], inplace=True)"
   ]
  },
  {
   "cell_type": "markdown",
   "id": "refined-latitude",
   "metadata": {},
   "source": [
    "### Write the excel file"
   ]
  },
  {
   "cell_type": "code",
   "execution_count": null,
   "id": "determined-sister",
   "metadata": {},
   "outputs": [],
   "source": [
    "writer = pd.ExcelWriter('output_file.xlsx', engine='xlsxwriter')\n",
    "df_agonists.to_excel(writer, sheet_name='Agonists',index=False)\n",
    "df_antagonists.to_excel(writer, sheet_name='Antagonists',index=False)\n",
    "writer.save()\n",
    "writer.close()"
   ]
  }
 ],
 "metadata": {
  "kernelspec": {
   "display_name": "teachopencadd",
   "language": "python",
   "name": "teachopencadd"
  },
  "language_info": {
   "codemirror_mode": {
    "name": "ipython",
    "version": 3
   },
   "file_extension": ".py",
   "mimetype": "text/x-python",
   "name": "python",
   "nbconvert_exporter": "python",
   "pygments_lexer": "ipython3",
   "version": "3.8.6"
  }
 },
 "nbformat": 4,
 "nbformat_minor": 5
}
